{
 "cells": [
  {
   "cell_type": "markdown",
   "metadata": {},
   "source": [
    "In this notebook, I will attempt at implementing **Content Based Recommendation System**."
   ]
  },
  {
   "cell_type": "code",
   "execution_count": 1,
   "metadata": {
    "_cell_guid": "b1076dfc-b9ad-4769-8c92-a6c4dae69d19",
    "_uuid": "8f2839f25d086af736a60e9eeb907d3b93b6e0e5"
   },
   "outputs": [],
   "source": [
    "import pandas as pd\n",
    "import numpy as np\n",
    "import seaborn as sns\n",
    "import matplotlib.pyplot as plt\n",
    "import string\n",
    "import re"
   ]
  },
  {
   "cell_type": "code",
   "execution_count": 18,
   "metadata": {
    "_cell_guid": "79c7e3d0-c299-4dcb-8224-4455121ee9b0",
    "_uuid": "d629ff2d2480ee46fbb7e2d37f6b5fab8052498a"
   },
   "outputs": [],
   "source": [
    "pre_df=pd.read_csv(\"dataset/flipkart_com-ecommerce_sample.csv\", na_values=[\"No rating available\"])"
   ]
  },
  {
   "cell_type": "code",
   "execution_count": 19,
   "metadata": {},
   "outputs": [
    {
     "name": "stdout",
     "output_type": "stream",
     "text": [
      "(20000, 15)\n"
     ]
    },
    {
     "data": {
      "text/html": [
       "<div>\n",
       "<style scoped>\n",
       "    .dataframe tbody tr th:only-of-type {\n",
       "        vertical-align: middle;\n",
       "    }\n",
       "\n",
       "    .dataframe tbody tr th {\n",
       "        vertical-align: top;\n",
       "    }\n",
       "\n",
       "    .dataframe thead th {\n",
       "        text-align: right;\n",
       "    }\n",
       "</style>\n",
       "<table border=\"1\" class=\"dataframe\">\n",
       "  <thead>\n",
       "    <tr style=\"text-align: right;\">\n",
       "      <th></th>\n",
       "      <th>uniq_id</th>\n",
       "      <th>crawl_timestamp</th>\n",
       "      <th>product_url</th>\n",
       "      <th>product_name</th>\n",
       "      <th>product_category_tree</th>\n",
       "      <th>pid</th>\n",
       "      <th>retail_price</th>\n",
       "      <th>discounted_price</th>\n",
       "      <th>image</th>\n",
       "      <th>is_FK_Advantage_product</th>\n",
       "      <th>description</th>\n",
       "      <th>product_rating</th>\n",
       "      <th>overall_rating</th>\n",
       "      <th>brand</th>\n",
       "      <th>product_specifications</th>\n",
       "    </tr>\n",
       "  </thead>\n",
       "  <tbody>\n",
       "    <tr>\n",
       "      <td>0</td>\n",
       "      <td>c2d766ca982eca8304150849735ffef9</td>\n",
       "      <td>2016-03-25 22:59:23 +0000</td>\n",
       "      <td>http://www.flipkart.com/alisha-solid-women-s-c...</td>\n",
       "      <td>Alisha Solid Women's Cycling Shorts</td>\n",
       "      <td>[\"Clothing &gt;&gt; Women's Clothing &gt;&gt; Lingerie, Sl...</td>\n",
       "      <td>SRTEH2FF9KEDEFGF</td>\n",
       "      <td>999.0</td>\n",
       "      <td>379.0</td>\n",
       "      <td>[\"http://img5a.flixcart.com/image/short/u/4/a/...</td>\n",
       "      <td>False</td>\n",
       "      <td>Key Features of Alisha Solid Women's Cycling S...</td>\n",
       "      <td>NaN</td>\n",
       "      <td>NaN</td>\n",
       "      <td>Alisha</td>\n",
       "      <td>{\"product_specification\"=&gt;[{\"key\"=&gt;\"Number of ...</td>\n",
       "    </tr>\n",
       "    <tr>\n",
       "      <td>1</td>\n",
       "      <td>7f7036a6d550aaa89d34c77bd39a5e48</td>\n",
       "      <td>2016-03-25 22:59:23 +0000</td>\n",
       "      <td>http://www.flipkart.com/fabhomedecor-fabric-do...</td>\n",
       "      <td>FabHomeDecor Fabric Double Sofa Bed</td>\n",
       "      <td>[\"Furniture &gt;&gt; Living Room Furniture &gt;&gt; Sofa B...</td>\n",
       "      <td>SBEEH3QGU7MFYJFY</td>\n",
       "      <td>32157.0</td>\n",
       "      <td>22646.0</td>\n",
       "      <td>[\"http://img6a.flixcart.com/image/sofa-bed/j/f...</td>\n",
       "      <td>False</td>\n",
       "      <td>FabHomeDecor Fabric Double Sofa Bed (Finish Co...</td>\n",
       "      <td>NaN</td>\n",
       "      <td>NaN</td>\n",
       "      <td>FabHomeDecor</td>\n",
       "      <td>{\"product_specification\"=&gt;[{\"key\"=&gt;\"Installati...</td>\n",
       "    </tr>\n",
       "    <tr>\n",
       "      <td>2</td>\n",
       "      <td>f449ec65dcbc041b6ae5e6a32717d01b</td>\n",
       "      <td>2016-03-25 22:59:23 +0000</td>\n",
       "      <td>http://www.flipkart.com/aw-bellies/p/itmeh4grg...</td>\n",
       "      <td>AW Bellies</td>\n",
       "      <td>[\"Footwear &gt;&gt; Women's Footwear &gt;&gt; Ballerinas &gt;...</td>\n",
       "      <td>SHOEH4GRSUBJGZXE</td>\n",
       "      <td>999.0</td>\n",
       "      <td>499.0</td>\n",
       "      <td>[\"http://img5a.flixcart.com/image/shoe/7/z/z/r...</td>\n",
       "      <td>False</td>\n",
       "      <td>Key Features of AW Bellies Sandals Wedges Heel...</td>\n",
       "      <td>NaN</td>\n",
       "      <td>NaN</td>\n",
       "      <td>AW</td>\n",
       "      <td>{\"product_specification\"=&gt;[{\"key\"=&gt;\"Ideal For\"...</td>\n",
       "    </tr>\n",
       "    <tr>\n",
       "      <td>3</td>\n",
       "      <td>0973b37acd0c664e3de26e97e5571454</td>\n",
       "      <td>2016-03-25 22:59:23 +0000</td>\n",
       "      <td>http://www.flipkart.com/alisha-solid-women-s-c...</td>\n",
       "      <td>Alisha Solid Women's Cycling Shorts</td>\n",
       "      <td>[\"Clothing &gt;&gt; Women's Clothing &gt;&gt; Lingerie, Sl...</td>\n",
       "      <td>SRTEH2F6HUZMQ6SJ</td>\n",
       "      <td>699.0</td>\n",
       "      <td>267.0</td>\n",
       "      <td>[\"http://img5a.flixcart.com/image/short/6/2/h/...</td>\n",
       "      <td>False</td>\n",
       "      <td>Key Features of Alisha Solid Women's Cycling S...</td>\n",
       "      <td>NaN</td>\n",
       "      <td>NaN</td>\n",
       "      <td>Alisha</td>\n",
       "      <td>{\"product_specification\"=&gt;[{\"key\"=&gt;\"Number of ...</td>\n",
       "    </tr>\n",
       "    <tr>\n",
       "      <td>4</td>\n",
       "      <td>bc940ea42ee6bef5ac7cea3fb5cfbee7</td>\n",
       "      <td>2016-03-25 22:59:23 +0000</td>\n",
       "      <td>http://www.flipkart.com/sicons-all-purpose-arn...</td>\n",
       "      <td>Sicons All Purpose Arnica Dog Shampoo</td>\n",
       "      <td>[\"Pet Supplies &gt;&gt; Grooming &gt;&gt; Skin &amp; Coat Care...</td>\n",
       "      <td>PSOEH3ZYDMSYARJ5</td>\n",
       "      <td>220.0</td>\n",
       "      <td>210.0</td>\n",
       "      <td>[\"http://img5a.flixcart.com/image/pet-shampoo/...</td>\n",
       "      <td>False</td>\n",
       "      <td>Specifications of Sicons All Purpose Arnica Do...</td>\n",
       "      <td>NaN</td>\n",
       "      <td>NaN</td>\n",
       "      <td>Sicons</td>\n",
       "      <td>{\"product_specification\"=&gt;[{\"key\"=&gt;\"Pet Type\",...</td>\n",
       "    </tr>\n",
       "  </tbody>\n",
       "</table>\n",
       "</div>"
      ],
      "text/plain": [
       "                            uniq_id            crawl_timestamp  \\\n",
       "0  c2d766ca982eca8304150849735ffef9  2016-03-25 22:59:23 +0000   \n",
       "1  7f7036a6d550aaa89d34c77bd39a5e48  2016-03-25 22:59:23 +0000   \n",
       "2  f449ec65dcbc041b6ae5e6a32717d01b  2016-03-25 22:59:23 +0000   \n",
       "3  0973b37acd0c664e3de26e97e5571454  2016-03-25 22:59:23 +0000   \n",
       "4  bc940ea42ee6bef5ac7cea3fb5cfbee7  2016-03-25 22:59:23 +0000   \n",
       "\n",
       "                                         product_url  \\\n",
       "0  http://www.flipkart.com/alisha-solid-women-s-c...   \n",
       "1  http://www.flipkart.com/fabhomedecor-fabric-do...   \n",
       "2  http://www.flipkart.com/aw-bellies/p/itmeh4grg...   \n",
       "3  http://www.flipkart.com/alisha-solid-women-s-c...   \n",
       "4  http://www.flipkart.com/sicons-all-purpose-arn...   \n",
       "\n",
       "                            product_name  \\\n",
       "0    Alisha Solid Women's Cycling Shorts   \n",
       "1    FabHomeDecor Fabric Double Sofa Bed   \n",
       "2                             AW Bellies   \n",
       "3    Alisha Solid Women's Cycling Shorts   \n",
       "4  Sicons All Purpose Arnica Dog Shampoo   \n",
       "\n",
       "                               product_category_tree               pid  \\\n",
       "0  [\"Clothing >> Women's Clothing >> Lingerie, Sl...  SRTEH2FF9KEDEFGF   \n",
       "1  [\"Furniture >> Living Room Furniture >> Sofa B...  SBEEH3QGU7MFYJFY   \n",
       "2  [\"Footwear >> Women's Footwear >> Ballerinas >...  SHOEH4GRSUBJGZXE   \n",
       "3  [\"Clothing >> Women's Clothing >> Lingerie, Sl...  SRTEH2F6HUZMQ6SJ   \n",
       "4  [\"Pet Supplies >> Grooming >> Skin & Coat Care...  PSOEH3ZYDMSYARJ5   \n",
       "\n",
       "   retail_price  discounted_price  \\\n",
       "0         999.0             379.0   \n",
       "1       32157.0           22646.0   \n",
       "2         999.0             499.0   \n",
       "3         699.0             267.0   \n",
       "4         220.0             210.0   \n",
       "\n",
       "                                               image  is_FK_Advantage_product  \\\n",
       "0  [\"http://img5a.flixcart.com/image/short/u/4/a/...                    False   \n",
       "1  [\"http://img6a.flixcart.com/image/sofa-bed/j/f...                    False   \n",
       "2  [\"http://img5a.flixcart.com/image/shoe/7/z/z/r...                    False   \n",
       "3  [\"http://img5a.flixcart.com/image/short/6/2/h/...                    False   \n",
       "4  [\"http://img5a.flixcart.com/image/pet-shampoo/...                    False   \n",
       "\n",
       "                                         description  product_rating  \\\n",
       "0  Key Features of Alisha Solid Women's Cycling S...             NaN   \n",
       "1  FabHomeDecor Fabric Double Sofa Bed (Finish Co...             NaN   \n",
       "2  Key Features of AW Bellies Sandals Wedges Heel...             NaN   \n",
       "3  Key Features of Alisha Solid Women's Cycling S...             NaN   \n",
       "4  Specifications of Sicons All Purpose Arnica Do...             NaN   \n",
       "\n",
       "   overall_rating         brand  \\\n",
       "0             NaN        Alisha   \n",
       "1             NaN  FabHomeDecor   \n",
       "2             NaN            AW   \n",
       "3             NaN        Alisha   \n",
       "4             NaN        Sicons   \n",
       "\n",
       "                              product_specifications  \n",
       "0  {\"product_specification\"=>[{\"key\"=>\"Number of ...  \n",
       "1  {\"product_specification\"=>[{\"key\"=>\"Installati...  \n",
       "2  {\"product_specification\"=>[{\"key\"=>\"Ideal For\"...  \n",
       "3  {\"product_specification\"=>[{\"key\"=>\"Number of ...  \n",
       "4  {\"product_specification\"=>[{\"key\"=>\"Pet Type\",...  "
      ]
     },
     "execution_count": 19,
     "metadata": {},
     "output_type": "execute_result"
    }
   ],
   "source": [
    "print(pre_df.shape)\n",
    "pre_df.head()"
   ]
  },
  {
   "cell_type": "code",
   "execution_count": 20,
   "metadata": {},
   "outputs": [
    {
     "name": "stdout",
     "output_type": "stream",
     "text": [
      "<class 'pandas.core.frame.DataFrame'>\n",
      "RangeIndex: 20000 entries, 0 to 19999\n",
      "Data columns (total 15 columns):\n",
      "uniq_id                    20000 non-null object\n",
      "crawl_timestamp            20000 non-null object\n",
      "product_url                20000 non-null object\n",
      "product_name               20000 non-null object\n",
      "product_category_tree      20000 non-null object\n",
      "pid                        20000 non-null object\n",
      "retail_price               19922 non-null float64\n",
      "discounted_price           19922 non-null float64\n",
      "image                      19997 non-null object\n",
      "is_FK_Advantage_product    20000 non-null bool\n",
      "description                19998 non-null object\n",
      "product_rating             1849 non-null float64\n",
      "overall_rating             1849 non-null float64\n",
      "brand                      14136 non-null object\n",
      "product_specifications     19986 non-null object\n",
      "dtypes: bool(1), float64(4), object(10)\n",
      "memory usage: 2.2+ MB\n"
     ]
    }
   ],
   "source": [
    "pre_df.info()"
   ]
  },
  {
   "cell_type": "markdown",
   "metadata": {},
   "source": [
    "In this dataset user information is not provided, so we can not build user based recommendation system. Also only 1849 product_rating have non missing value in, so product rating is also not going to help much with building our recommendation system. So, I will be implementing **Content Based(Description + Metadata) Recommendation System. **"
   ]
  },
  {
   "cell_type": "markdown",
   "metadata": {},
   "source": [
    "## ***Data Preprocessing***"
   ]
  },
  {
   "cell_type": "code",
   "execution_count": 21,
   "metadata": {},
   "outputs": [
    {
     "data": {
      "text/html": [
       "<div>\n",
       "<style scoped>\n",
       "    .dataframe tbody tr th:only-of-type {\n",
       "        vertical-align: middle;\n",
       "    }\n",
       "\n",
       "    .dataframe tbody tr th {\n",
       "        vertical-align: top;\n",
       "    }\n",
       "\n",
       "    .dataframe thead th {\n",
       "        text-align: right;\n",
       "    }\n",
       "</style>\n",
       "<table border=\"1\" class=\"dataframe\">\n",
       "  <thead>\n",
       "    <tr style=\"text-align: right;\">\n",
       "      <th></th>\n",
       "      <th>uniq_id</th>\n",
       "      <th>crawl_timestamp</th>\n",
       "      <th>product_url</th>\n",
       "      <th>product_name</th>\n",
       "      <th>product_category_tree</th>\n",
       "      <th>pid</th>\n",
       "      <th>retail_price</th>\n",
       "      <th>discounted_price</th>\n",
       "      <th>image</th>\n",
       "      <th>is_FK_Advantage_product</th>\n",
       "      <th>description</th>\n",
       "      <th>product_rating</th>\n",
       "      <th>overall_rating</th>\n",
       "      <th>brand</th>\n",
       "      <th>product_specifications</th>\n",
       "    </tr>\n",
       "  </thead>\n",
       "  <tbody>\n",
       "    <tr>\n",
       "      <td>0</td>\n",
       "      <td>c2d766ca982eca8304150849735ffef9</td>\n",
       "      <td>2016-03-25 22:59:23 +0000</td>\n",
       "      <td>http://www.flipkart.com/alisha-solid-women-s-c...</td>\n",
       "      <td>Alisha Solid Women's Cycling Shorts</td>\n",
       "      <td>[Clothing ,  Women's Clothing ,  Lingerie, Sle...</td>\n",
       "      <td>SRTEH2FF9KEDEFGF</td>\n",
       "      <td>999.0</td>\n",
       "      <td>379.0</td>\n",
       "      <td>[\"http://img5a.flixcart.com/image/short/u/4/a/...</td>\n",
       "      <td>False</td>\n",
       "      <td>Key Features of Alisha Solid Women's Cycling S...</td>\n",
       "      <td>NaN</td>\n",
       "      <td>NaN</td>\n",
       "      <td>Alisha</td>\n",
       "      <td>{\"product_specification\"=&gt;[{\"key\"=&gt;\"Number of ...</td>\n",
       "    </tr>\n",
       "  </tbody>\n",
       "</table>\n",
       "</div>"
      ],
      "text/plain": [
       "                            uniq_id            crawl_timestamp  \\\n",
       "0  c2d766ca982eca8304150849735ffef9  2016-03-25 22:59:23 +0000   \n",
       "\n",
       "                                         product_url  \\\n",
       "0  http://www.flipkart.com/alisha-solid-women-s-c...   \n",
       "\n",
       "                          product_name  \\\n",
       "0  Alisha Solid Women's Cycling Shorts   \n",
       "\n",
       "                               product_category_tree               pid  \\\n",
       "0  [Clothing ,  Women's Clothing ,  Lingerie, Sle...  SRTEH2FF9KEDEFGF   \n",
       "\n",
       "   retail_price  discounted_price  \\\n",
       "0         999.0             379.0   \n",
       "\n",
       "                                               image  is_FK_Advantage_product  \\\n",
       "0  [\"http://img5a.flixcart.com/image/short/u/4/a/...                    False   \n",
       "\n",
       "                                         description  product_rating  \\\n",
       "0  Key Features of Alisha Solid Women's Cycling S...             NaN   \n",
       "\n",
       "   overall_rating   brand                             product_specifications  \n",
       "0             NaN  Alisha  {\"product_specification\"=>[{\"key\"=>\"Number of ...  "
      ]
     },
     "execution_count": 21,
     "metadata": {},
     "output_type": "execute_result"
    }
   ],
   "source": [
    "#Normalize product_category_tree column\n",
    "pre_df['product_category_tree']=pre_df['product_category_tree'].map(lambda x:x.strip('[]'))\n",
    "pre_df['product_category_tree']=pre_df['product_category_tree'].map(lambda x:x.strip('\"'))\n",
    "pre_df['product_category_tree']=pre_df['product_category_tree'].map(lambda x:x.split('>>'))\n",
    "pre_df.head(1)"
   ]
  },
  {
   "cell_type": "code",
   "execution_count": 22,
   "metadata": {},
   "outputs": [],
   "source": [
    "#delete unwanted columns\n",
    "del_list=['crawl_timestamp','product_url','image',\"retail_price\",\"discounted_price\",\"is_FK_Advantage_product\",\"product_rating\",\"overall_rating\",\"product_specifications\"]\n",
    "pre_df=pre_df.drop(del_list,axis=1)"
   ]
  },
  {
   "cell_type": "code",
   "execution_count": 23,
   "metadata": {},
   "outputs": [
    {
     "data": {
      "text/html": [
       "<div>\n",
       "<style scoped>\n",
       "    .dataframe tbody tr th:only-of-type {\n",
       "        vertical-align: middle;\n",
       "    }\n",
       "\n",
       "    .dataframe tbody tr th {\n",
       "        vertical-align: top;\n",
       "    }\n",
       "\n",
       "    .dataframe thead th {\n",
       "        text-align: right;\n",
       "    }\n",
       "</style>\n",
       "<table border=\"1\" class=\"dataframe\">\n",
       "  <thead>\n",
       "    <tr style=\"text-align: right;\">\n",
       "      <th></th>\n",
       "      <th>uniq_id</th>\n",
       "      <th>product_name</th>\n",
       "      <th>product_category_tree</th>\n",
       "      <th>pid</th>\n",
       "      <th>description</th>\n",
       "      <th>brand</th>\n",
       "    </tr>\n",
       "  </thead>\n",
       "  <tbody>\n",
       "    <tr>\n",
       "      <td>0</td>\n",
       "      <td>c2d766ca982eca8304150849735ffef9</td>\n",
       "      <td>Alisha Solid Women's Cycling Shorts</td>\n",
       "      <td>[Clothing ,  Women's Clothing ,  Lingerie, Sle...</td>\n",
       "      <td>SRTEH2FF9KEDEFGF</td>\n",
       "      <td>Key Features of Alisha Solid Women's Cycling S...</td>\n",
       "      <td>Alisha</td>\n",
       "    </tr>\n",
       "    <tr>\n",
       "      <td>1</td>\n",
       "      <td>7f7036a6d550aaa89d34c77bd39a5e48</td>\n",
       "      <td>FabHomeDecor Fabric Double Sofa Bed</td>\n",
       "      <td>[Furniture ,  Living Room Furniture ,  Sofa Be...</td>\n",
       "      <td>SBEEH3QGU7MFYJFY</td>\n",
       "      <td>FabHomeDecor Fabric Double Sofa Bed (Finish Co...</td>\n",
       "      <td>FabHomeDecor</td>\n",
       "    </tr>\n",
       "  </tbody>\n",
       "</table>\n",
       "</div>"
      ],
      "text/plain": [
       "                            uniq_id                         product_name  \\\n",
       "0  c2d766ca982eca8304150849735ffef9  Alisha Solid Women's Cycling Shorts   \n",
       "1  7f7036a6d550aaa89d34c77bd39a5e48  FabHomeDecor Fabric Double Sofa Bed   \n",
       "\n",
       "                               product_category_tree               pid  \\\n",
       "0  [Clothing ,  Women's Clothing ,  Lingerie, Sle...  SRTEH2FF9KEDEFGF   \n",
       "1  [Furniture ,  Living Room Furniture ,  Sofa Be...  SBEEH3QGU7MFYJFY   \n",
       "\n",
       "                                         description         brand  \n",
       "0  Key Features of Alisha Solid Women's Cycling S...        Alisha  \n",
       "1  FabHomeDecor Fabric Double Sofa Bed (Finish Co...  FabHomeDecor  "
      ]
     },
     "execution_count": 23,
     "metadata": {},
     "output_type": "execute_result"
    }
   ],
   "source": [
    "pre_df.head(2)"
   ]
  },
  {
   "cell_type": "code",
   "execution_count": 24,
   "metadata": {},
   "outputs": [
    {
     "data": {
      "text/html": [
       "<div>\n",
       "<style scoped>\n",
       "    .dataframe tbody tr th:only-of-type {\n",
       "        vertical-align: middle;\n",
       "    }\n",
       "\n",
       "    .dataframe tbody tr th {\n",
       "        vertical-align: top;\n",
       "    }\n",
       "\n",
       "    .dataframe thead th {\n",
       "        text-align: right;\n",
       "    }\n",
       "</style>\n",
       "<table border=\"1\" class=\"dataframe\">\n",
       "  <thead>\n",
       "    <tr style=\"text-align: right;\">\n",
       "      <th></th>\n",
       "      <th>uniq_id</th>\n",
       "      <th>product_name</th>\n",
       "      <th>product_category_tree</th>\n",
       "      <th>pid</th>\n",
       "      <th>description</th>\n",
       "      <th>brand</th>\n",
       "    </tr>\n",
       "  </thead>\n",
       "  <tbody>\n",
       "    <tr>\n",
       "      <td>0</td>\n",
       "      <td>c2d766ca982eca8304150849735ffef9</td>\n",
       "      <td>Alisha Solid Women's Cycling Shorts</td>\n",
       "      <td>[Clothing ,  Women's Clothing ,  Lingerie, Sle...</td>\n",
       "      <td>SRTEH2FF9KEDEFGF</td>\n",
       "      <td>Key Features of Alisha Solid Women's Cycling S...</td>\n",
       "      <td>Alisha</td>\n",
       "    </tr>\n",
       "    <tr>\n",
       "      <td>1</td>\n",
       "      <td>7f7036a6d550aaa89d34c77bd39a5e48</td>\n",
       "      <td>FabHomeDecor Fabric Double Sofa Bed</td>\n",
       "      <td>[Furniture ,  Living Room Furniture ,  Sofa Be...</td>\n",
       "      <td>SBEEH3QGU7MFYJFY</td>\n",
       "      <td>FabHomeDecor Fabric Double Sofa Bed (Finish Co...</td>\n",
       "      <td>FabHomeDecor</td>\n",
       "    </tr>\n",
       "    <tr>\n",
       "      <td>2</td>\n",
       "      <td>f449ec65dcbc041b6ae5e6a32717d01b</td>\n",
       "      <td>AW Bellies</td>\n",
       "      <td>[Footwear ,  Women's Footwear ,  Ballerinas , ...</td>\n",
       "      <td>SHOEH4GRSUBJGZXE</td>\n",
       "      <td>Key Features of AW Bellies Sandals Wedges Heel...</td>\n",
       "      <td>AW</td>\n",
       "    </tr>\n",
       "    <tr>\n",
       "      <td>4</td>\n",
       "      <td>bc940ea42ee6bef5ac7cea3fb5cfbee7</td>\n",
       "      <td>Sicons All Purpose Arnica Dog Shampoo</td>\n",
       "      <td>[Pet Supplies ,  Grooming ,  Skin &amp; Coat Care ...</td>\n",
       "      <td>PSOEH3ZYDMSYARJ5</td>\n",
       "      <td>Specifications of Sicons All Purpose Arnica Do...</td>\n",
       "      <td>Sicons</td>\n",
       "    </tr>\n",
       "    <tr>\n",
       "      <td>5</td>\n",
       "      <td>c2a17313954882c1dba461863e98adf2</td>\n",
       "      <td>Eternal Gandhi Super Series Crystal Paper Weig...</td>\n",
       "      <td>[Eternal Gandhi Super Series Crystal Paper Wei...</td>\n",
       "      <td>PWTEB7H2E4KCYUE3</td>\n",
       "      <td>Key Features of Eternal Gandhi Super Series Cr...</td>\n",
       "      <td>Eternal Gandhi</td>\n",
       "    </tr>\n",
       "  </tbody>\n",
       "</table>\n",
       "</div>"
      ],
      "text/plain": [
       "                            uniq_id  \\\n",
       "0  c2d766ca982eca8304150849735ffef9   \n",
       "1  7f7036a6d550aaa89d34c77bd39a5e48   \n",
       "2  f449ec65dcbc041b6ae5e6a32717d01b   \n",
       "4  bc940ea42ee6bef5ac7cea3fb5cfbee7   \n",
       "5  c2a17313954882c1dba461863e98adf2   \n",
       "\n",
       "                                        product_name  \\\n",
       "0                Alisha Solid Women's Cycling Shorts   \n",
       "1                FabHomeDecor Fabric Double Sofa Bed   \n",
       "2                                         AW Bellies   \n",
       "4              Sicons All Purpose Arnica Dog Shampoo   \n",
       "5  Eternal Gandhi Super Series Crystal Paper Weig...   \n",
       "\n",
       "                               product_category_tree               pid  \\\n",
       "0  [Clothing ,  Women's Clothing ,  Lingerie, Sle...  SRTEH2FF9KEDEFGF   \n",
       "1  [Furniture ,  Living Room Furniture ,  Sofa Be...  SBEEH3QGU7MFYJFY   \n",
       "2  [Footwear ,  Women's Footwear ,  Ballerinas , ...  SHOEH4GRSUBJGZXE   \n",
       "4  [Pet Supplies ,  Grooming ,  Skin & Coat Care ...  PSOEH3ZYDMSYARJ5   \n",
       "5  [Eternal Gandhi Super Series Crystal Paper Wei...  PWTEB7H2E4KCYUE3   \n",
       "\n",
       "                                         description           brand  \n",
       "0  Key Features of Alisha Solid Women's Cycling S...          Alisha  \n",
       "1  FabHomeDecor Fabric Double Sofa Bed (Finish Co...    FabHomeDecor  \n",
       "2  Key Features of AW Bellies Sandals Wedges Heel...              AW  \n",
       "4  Specifications of Sicons All Purpose Arnica Do...          Sicons  \n",
       "5  Key Features of Eternal Gandhi Super Series Cr...  Eternal Gandhi  "
      ]
     },
     "execution_count": 24,
     "metadata": {},
     "output_type": "execute_result"
    }
   ],
   "source": [
    "# Dropping duplicates\n",
    "pre_df.drop_duplicates(subset =\"product_name\", keep = \"first\", inplace = True)\n",
    "pre_df.head()"
   ]
  },
  {
   "cell_type": "code",
   "execution_count": 40,
   "metadata": {},
   "outputs": [
    {
     "name": "stderr",
     "output_type": "stream",
     "text": [
      "[nltk_data] Downloading package stopwords to C:\\Users\\S\n",
      "[nltk_data]     Ponraj\\AppData\\Roaming\\nltk_data...\n",
      "[nltk_data]   Package stopwords is already up-to-date!\n",
      "[nltk_data] Downloading package wordnet to C:\\Users\\S\n",
      "[nltk_data]     Ponraj\\AppData\\Roaming\\nltk_data...\n",
      "[nltk_data]   Unzipping corpora\\wordnet.zip.\n"
     ]
    }
   ],
   "source": [
    "from nltk.corpus import stopwords \n",
    "from nltk.tokenize import word_tokenize\n",
    "from nltk.stem.wordnet import WordNetLemmatizer\n",
    "import nltk\n",
    "#download stopwords vocabulary\n",
    "nltk.download('stopwords')\n",
    "#download wordnet vocabulary\n",
    "nltk.download('wordnet')\n",
    "lem = WordNetLemmatizer()\n",
    "stop_words = set(stopwords.words('english')) \n",
    "exclude = set(string.punctuation)\n",
    "import string"
   ]
  },
  {
   "cell_type": "code",
   "execution_count": 26,
   "metadata": {},
   "outputs": [
    {
     "data": {
      "text/plain": [
       "(12676, 6)"
      ]
     },
     "execution_count": 26,
     "metadata": {},
     "output_type": "execute_result"
    }
   ],
   "source": [
    "pre_df.shape"
   ]
  },
  {
   "cell_type": "markdown",
   "metadata": {},
   "source": [
    "### Data Cleaning"
   ]
  },
  {
   "cell_type": "code",
   "execution_count": 36,
   "metadata": {},
   "outputs": [
    {
     "name": "stdout",
     "output_type": "stream",
     "text": [
      "['hasn', 'what', 'isn', 'over', 'if']\n",
      "['*', '>', '/', '^', '|']\n"
     ]
    }
   ],
   "source": [
    "#Stop wods are nothing but {'a', 'she', 'was'}\n",
    "print(list(stop_words)[:5])\n",
    "#to excluding punctuations\n",
    "print(list(exclude)[:5])"
   ]
  },
  {
   "cell_type": "markdown",
   "metadata": {},
   "source": [
    "<strong>Lemmatization</strong> is the process of converting a word to its base form. The difference between stemming and lemmatization is, lemmatization considers the context and converts the word to its meaningful base form, whereas stemming just removes the last few characters, often leading to incorrect meanings and spelling errors.\n",
    "\n",
    "<b>‘Caring’ -> Lemmatization -> ‘Care’ </b> <br/>\n",
    "<b>‘Caring’ -> Stemming -> ‘Car’</b>"
   ]
  },
  {
   "cell_type": "code",
   "execution_count": 43,
   "metadata": {},
   "outputs": [],
   "source": [
    "# if the input is 'Alisha Solid Women's Cycling Shorts', then below variable act as menioned\n",
    "# word_tokens:  ['alisha', 'solid', 'womens', 'cycling', 'shorts']\n",
    "# filtered_sentence :  ['alisha', 'solid', 'womens', 'cycle', 'short']\n",
    "\n",
    "def filter_keywords(doc):\n",
    "    doc=doc.lower()\n",
    "    stop_free = \" \".join([i for i in doc.split() if i not in stop_words])\n",
    "    punc_free = \"\".join(ch for ch in stop_free if ch not in exclude)\n",
    "    word_tokens = word_tokenize(punc_free)\n",
    "    filtered_sentence = [(lem.lemmatize(w, \"v\")) for w in word_tokens]\n",
    "    return filtered_sentence"
   ]
  },
  {
   "cell_type": "code",
   "execution_count": 44,
   "metadata": {},
   "outputs": [],
   "source": [
    "smd = pre_df.copy()\n",
    "smd['product'] = smd['product_name'].apply(filter_keywords)\n",
    "smd['description'] = smd['description'].astype(\"str\").apply(filter_keywords)\n",
    "smd['brand'] = smd['brand'].astype(\"str\").apply(filter_keywords)"
   ]
  },
  {
   "cell_type": "code",
   "execution_count": 47,
   "metadata": {},
   "outputs": [],
   "source": [
    "# Here we combine all columns in the form of LIST\n",
    "smd[\"all_meta\"]=smd['product']+smd['brand']+ pre_df['product_category_tree']+smd['description']\n",
    "# Here we create string from those tuples\n",
    "smd[\"all_meta\"] = smd[\"all_meta\"].apply(lambda x: ' '.join(x))"
   ]
  },
  {
   "cell_type": "code",
   "execution_count": 48,
   "metadata": {},
   "outputs": [
    {
     "data": {
      "text/plain": [
       "0    alisha solid womens cycle short alisha Clothin...\n",
       "1    fabhomedecor fabric double sofa bed fabhomedec...\n",
       "2    aw belly aw Footwear   Women's Footwear   Ball...\n",
       "4    sicons purpose arnica dog shampoo sicons Pet S...\n",
       "5    eternal gandhi super series crystal paper weig...\n",
       "Name: all_meta, dtype: object"
      ]
     },
     "execution_count": 48,
     "metadata": {},
     "output_type": "execute_result"
    }
   ],
   "source": [
    "smd[\"all_meta\"].head()"
   ]
  },
  {
   "cell_type": "code",
   "execution_count": 49,
   "metadata": {},
   "outputs": [],
   "source": [
    "from sklearn.feature_extraction.text import TfidfVectorizer, CountVectorizer\n",
    "# count = CountVectorizer(analyzer='word',ngram_range=(1, 2),min_df=0, stop_words='english')\n",
    "# count_matrix = count.fit_transform(smd['all_meta'])\n",
    "tf = TfidfVectorizer(analyzer='word',ngram_range=(1, 2),min_df=0, stop_words='english')\n",
    "tfidf_matrix = tf.fit_transform(smd['all_meta'])"
   ]
  },
  {
   "cell_type": "markdown",
   "metadata": {},
   "source": [
    "### Cosine Similarity\n",
    "I will be using the Cosine Similarity to calculate a numeric quantity that denotes the similarity between two products.\n",
    "Since we have used the TF-IDF Vectorizer, calculating the Dot Product will directly give us the Cosine Similarity Score."
   ]
  },
  {
   "cell_type": "code",
   "execution_count": 50,
   "metadata": {},
   "outputs": [],
   "source": [
    "from sklearn.metrics.pairwise import linear_kernel, cosine_similarity\n",
    "cosine_sim = cosine_similarity(tfidf_matrix, tfidf_matrix)"
   ]
  },
  {
   "cell_type": "markdown",
   "metadata": {},
   "source": [
    "We now have a pairwise cosine similarity matrix for all the products in our dataset. The next step is to write a function that returns the most similar products based on the cosine similarity score."
   ]
  },
  {
   "cell_type": "code",
   "execution_count": 51,
   "metadata": {},
   "outputs": [],
   "source": [
    "def get_recommendations(title):\n",
    "    idx = indices[title]\n",
    "    sim_scores = list(enumerate(cosine_sim[idx]))\n",
    "    sim_scores = sorted(sim_scores, key=lambda x: x[1], reverse=True)\n",
    "    sim_scores = sim_scores[1:31]\n",
    "    product_indices = [i[0] for i in sim_scores]\n",
    "    return titles.iloc[product_indices]"
   ]
  },
  {
   "cell_type": "code",
   "execution_count": 52,
   "metadata": {},
   "outputs": [],
   "source": [
    "smd = smd.reset_index()\n",
    "titles = smd['product_name']\n",
    "indices = pd.Series(smd.index, index=smd['product_name'])"
   ]
  },
  {
   "cell_type": "markdown",
   "metadata": {},
   "source": [
    "Let us now try and get the top recommendations for a few products."
   ]
  },
  {
   "cell_type": "markdown",
   "metadata": {},
   "source": [
    "12219    Comfort Couch Engineered Wood 3 Seater Sofa\n",
    "12199        @home Annulus Solid Wood Dressing Table\n",
    "11866       Ethnic Handicrafts Solid Wood Single Bed\n",
    "11857        Ethnic Handicrafts Solid Wood Queen Bed\n",
    "5191                    HomeEdge Solid Wood King Bed"
   ]
  },
  {
   "cell_type": "code",
   "execution_count": 53,
   "metadata": {},
   "outputs": [
    {
     "data": {
      "text/plain": [
       "12219    Comfort Couch Engineered Wood 3 Seater Sofa\n",
       "12199        @home Annulus Solid Wood Dressing Table\n",
       "11866       Ethnic Handicrafts Solid Wood Single Bed\n",
       "11857        Ethnic Handicrafts Solid Wood Queen Bed\n",
       "5191                    HomeEdge Solid Wood King Bed\n",
       "Name: product_name, dtype: object"
      ]
     },
     "execution_count": 53,
     "metadata": {},
     "output_type": "execute_result"
    }
   ],
   "source": [
    "get_recommendations(\"FabHomeDecor Fabric Double Sofa Bed\").head(5)"
   ]
  },
  {
   "cell_type": "code",
   "execution_count": 54,
   "metadata": {},
   "outputs": [
    {
     "data": {
      "text/plain": [
       "644     Mynte Solid Women's Cycling Shorts, Gym Shorts...\n",
       "7162                    Ashdan Solid Women's Basic Shorts\n",
       "899               Vitamins Solid Baby Girl's Basic Shorts\n",
       "1786                 Vero Moda Solid Women's Basic Shorts\n",
       "7158                  Lilliput Solid Boy's Bermuda Shorts\n",
       "Name: product_name, dtype: object"
      ]
     },
     "execution_count": 54,
     "metadata": {},
     "output_type": "execute_result"
    }
   ],
   "source": [
    "get_recommendations(\"Alisha Solid Women's Cycling Shorts\").head(5)"
   ]
  },
  {
   "cell_type": "code",
   "execution_count": 56,
   "metadata": {},
   "outputs": [],
   "source": [
    "get_recommendations(\"Alisha Solid Women's Cycling Shorts\").head(5).to_csv(\"Alisha Solid Women's Cycling Shorts recommendations.csv\",index=False,header=True)"
   ]
  },
  {
   "cell_type": "code",
   "execution_count": null,
   "metadata": {},
   "outputs": [],
   "source": []
  }
 ],
 "metadata": {
  "kernelspec": {
   "display_name": "Python 3",
   "language": "python",
   "name": "python3"
  },
  "language_info": {
   "codemirror_mode": {
    "name": "ipython",
    "version": 3
   },
   "file_extension": ".py",
   "mimetype": "text/x-python",
   "name": "python",
   "nbconvert_exporter": "python",
   "pygments_lexer": "ipython3",
   "version": "3.7.4"
  }
 },
 "nbformat": 4,
 "nbformat_minor": 4
}
