{
 "cells": [
  {
   "cell_type": "markdown",
   "metadata": {},
   "source": [
    "### Tutorial - https://towardsdatascience.com/named-entity-recognition-with-nltk-and-spacy-8c4a7d88e7da"
   ]
  },
  {
   "cell_type": "code",
   "execution_count": 1,
   "metadata": {},
   "outputs": [],
   "source": [
    "import spacy\n",
    "import random"
   ]
  },
  {
   "cell_type": "code",
   "execution_count": 2,
   "metadata": {},
   "outputs": [],
   "source": [
    "TRAIN_DATA = [('what is the price of polo?', {'entities': [(21, 25, 'PrdName')]}), \n",
    "              ('what is the price of ball?', {'entities': [(21, 25, 'PrdName')]}), \n",
    "              ('what is the price of jegging?', {'entities': [(21, 28, 'PrdName')]}), \n",
    "              ('what is the price of t-shirt?', {'entities': [(21, 28, 'PrdName')]}), \n",
    "              ('what is the price of jeans?', {'entities': [(21, 26, 'PrdName')]}), \n",
    "              ('what is the price of bat?', {'entities': [(21, 24, 'PrdName')]}), \n",
    "              ('what is the price of shirt?', {'entities': [(21, 26, 'PrdName')]}), \n",
    "              ('what is the price of bag?', {'entities': [(21, 24, 'PrdName')]}), \n",
    "              ('what is the price of cup?', {'entities': [(21, 24, 'PrdName')]}), \n",
    "              ('what is the price of jug?', {'entities': [(21, 24, 'PrdName')]}), \n",
    "              ('what is the price of plate?', {'entities': [(21, 26, 'PrdName')]}), \n",
    "              ('what is the price of glass?', {'entities': [(21, 26, 'PrdName')]}), \n",
    "              ('what is the price of moniter?', {'entities': [(21, 28, 'PrdName')]}), \n",
    "              ('what is the price of desktop?', {'entities': [(21, 28, 'PrdName')]}), \n",
    "              ('what is the price of bottle?', {'entities': [(21, 27, 'PrdName')]}), \n",
    "              ('what is the price of mouse?', {'entities': [(21, 26, 'PrdName')]}), \n",
    "              ('what is the price of keyboad?', {'entities': [(21, 28, 'PrdName')]}), \n",
    "              ('what is the price of chair?', {'entities': [(21, 26, 'PrdName')]}), \n",
    "              ('what is the price of table?', {'entities': [(21, 26, 'PrdName')]}), \n",
    "              ('what is the price of watch?', {'entities': [(21, 26, 'PrdName')]})]"
   ]
  },
  {
   "cell_type": "code",
   "execution_count": 3,
   "metadata": {},
   "outputs": [
    {
     "name": "stderr",
     "output_type": "stream",
     "text": [
      "D:\\Intalled Softwares\\Anaconda\\lib\\site-packages\\spacy\\language.py:639: UserWarning: [W033] Training a new parser or NER using a model with no lexeme normalization table. This may degrade the performance of the model to some degree. If this is intentional or the language you're using doesn't have a normalization table, please ignore this warning. If this is surprising, make sure you have the spacy-lookups-data package installed. The languages with lexeme normalization tables are currently: da, de, el, en, id, lb, pt, ru, sr, ta, th.\n",
      "  **kwargs\n"
     ]
    },
    {
     "name": "stdout",
     "output_type": "stream",
     "text": [
      "Statring iteration 0\n",
      "{'ner': 43.81399885839346}\n",
      "Statring iteration 1\n",
      "{'ner': 4.062298668116463}\n",
      "Statring iteration 2\n",
      "{'ner': 1.999798222117135}\n",
      "Statring iteration 3\n",
      "{'ner': 1.8091910870892844}\n",
      "Statring iteration 4\n",
      "{'ner': 1.448484692222577}\n",
      "Statring iteration 5\n",
      "{'ner': 6.2958581135852505}\n",
      "Statring iteration 6\n",
      "{'ner': 3.7562418117220413}\n",
      "Statring iteration 7\n",
      "{'ner': 4.386008584414455}\n",
      "Statring iteration 8\n",
      "{'ner': 2.114574012452597}\n",
      "Statring iteration 9\n",
      "{'ner': 3.3959235026629675}\n",
      "Statring iteration 10\n",
      "{'ner': 2.9318620154420447}\n",
      "Statring iteration 11\n",
      "{'ner': 2.089913559003208}\n",
      "Statring iteration 12\n",
      "{'ner': 0.16510303115342034}\n",
      "Statring iteration 13\n",
      "{'ner': 0.4331152580977843}\n",
      "Statring iteration 14\n",
      "{'ner': 0.03627346019990667}\n",
      "Statring iteration 15\n",
      "{'ner': 0.0008205566181973292}\n",
      "Statring iteration 16\n",
      "{'ner': 0.02081070170148659}\n",
      "Statring iteration 17\n",
      "{'ner': 0.001810374987426732}\n",
      "Statring iteration 18\n",
      "{'ner': 0.0006200484241559558}\n",
      "Statring iteration 19\n",
      "{'ner': 1.3814151898836187e-07}\n",
      "Enter your Model Name: own_data\n",
      "Enter your testing text: price of bag\n",
      "bag 9 12 PrdName\n"
     ]
    }
   ],
   "source": [
    "def train_spacy(data,iterations):\n",
    "    TRAIN_DATA = data\n",
    "    nlp = spacy.blank('en')  # create blank Language class\n",
    "    # create the built-in pipeline components and add them to the pipeline\n",
    "    # nlp.create_pipe works for built-ins that are registered with spaCy\n",
    "    if 'ner' not in nlp.pipe_names:\n",
    "        ner = nlp.create_pipe('ner')\n",
    "        nlp.add_pipe(ner, last=True)\n",
    "       \n",
    "\n",
    "    # add labels\n",
    "    for _, annotations in TRAIN_DATA:\n",
    "         for ent in annotations.get('entities'):\n",
    "            ner.add_label(ent[2])\n",
    "\n",
    "    # get names of other pipes to disable them during training\n",
    "    other_pipes = [pipe for pipe in nlp.pipe_names if pipe != 'ner']\n",
    "    with nlp.disable_pipes(*other_pipes):  # only train NER\n",
    "        optimizer = nlp.begin_training()\n",
    "        for itn in range(iterations):\n",
    "            print(\"Statring iteration \" + str(itn))\n",
    "            random.shuffle(TRAIN_DATA)\n",
    "            losses = {}\n",
    "            for text, annotations in TRAIN_DATA:\n",
    "                nlp.update(\n",
    "                    [text],  # batch of texts\n",
    "                    [annotations],  # batch of annotations\n",
    "                    drop=0.2,  # dropout - make it harder to memorise data\n",
    "                    sgd=optimizer,  # callable to update weights\n",
    "                    losses=losses)\n",
    "            print(losses)\n",
    "    return nlp\n",
    "\n",
    "\n",
    "prdnlp = train_spacy(TRAIN_DATA, 20)\n",
    "\n",
    "# Save our trained Model\n",
    "modelfile = input(\"Enter your Model Name: \")\n",
    "prdnlp.to_disk(modelfile)\n",
    "\n",
    "#Test your text\n",
    "test_text = input(\"Enter your testing text: \")\n",
    "doc = prdnlp(test_text)\n",
    "for ent in doc.ents:\n",
    "    print(ent.text, ent.start_char, ent.end_char, ent.label_)"
   ]
  },
  {
   "cell_type": "code",
   "execution_count": 6,
   "metadata": {},
   "outputs": [],
   "source": [
    "test = prdnlp('what is price of bag?')"
   ]
  },
  {
   "cell_type": "code",
   "execution_count": 7,
   "metadata": {},
   "outputs": [
    {
     "name": "stdout",
     "output_type": "stream",
     "text": [
      "bag  :  PrdName\n"
     ]
    }
   ],
   "source": [
    "for i in test.ents:\n",
    "    print(i.text, \" : \", i.label_)"
   ]
  },
  {
   "cell_type": "code",
   "execution_count": null,
   "metadata": {},
   "outputs": [],
   "source": []
  }
 ],
 "metadata": {
  "kernelspec": {
   "display_name": "Python 3",
   "language": "python",
   "name": "python3"
  },
  "language_info": {
   "codemirror_mode": {
    "name": "ipython",
    "version": 3
   },
   "file_extension": ".py",
   "mimetype": "text/x-python",
   "name": "python",
   "nbconvert_exporter": "python",
   "pygments_lexer": "ipython3",
   "version": "3.7.4"
  }
 },
 "nbformat": 4,
 "nbformat_minor": 2
}
