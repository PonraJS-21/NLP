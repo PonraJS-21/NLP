{
 "cells": [
  {
   "cell_type": "markdown",
   "metadata": {},
   "source": [
    "# Develop Word2Vec Embedding"
   ]
  },
  {
   "cell_type": "code",
   "execution_count": 108,
   "metadata": {},
   "outputs": [
    {
     "name": "stdout",
     "output_type": "stream",
     "text": [
      "Word2Vec(vocab=14, size=100, alpha=0.025)\n",
      "['this', 'is', 'the', 'first', 'sentence', 'for', 'word2vec', 'second', 'yet', 'another', 'one', 'more', 'and', 'final']\n",
      "[ 4.9271085e-03  5.4197753e-04  1.8954141e-03 -3.0738621e-03\n",
      "  3.1809716e-03  4.4984939e-03  3.0841266e-03  5.4568163e-04\n",
      "  2.6415396e-03  7.5585244e-04 -3.1938255e-03 -2.2961302e-03\n",
      "  3.9409360e-04 -3.3459223e-03 -3.2358849e-03  5.0980139e-05\n",
      " -2.3724386e-03 -3.5260320e-03  6.9213117e-04  3.2029396e-03\n",
      "  2.5006756e-03 -4.1292477e-03  1.2869190e-04 -1.4005546e-03\n",
      " -4.2016702e-03 -5.1580160e-04 -2.6160160e-03 -3.7763922e-03\n",
      "  4.8871641e-03  4.3318202e-03 -1.0119820e-03  2.9603560e-03\n",
      "  2.0236685e-03  3.4358405e-04  3.5140952e-03  4.3834476e-03\n",
      "  2.1632670e-03 -3.6921352e-03  4.7156415e-03 -1.3454132e-03\n",
      "  4.4286251e-03 -4.1248710e-03 -1.6814031e-03  3.0419906e-03\n",
      "  1.5781904e-03 -1.6752181e-03 -1.9700152e-03  2.6671280e-04\n",
      " -4.5001176e-03  1.9079470e-04 -6.9436675e-04 -1.8962746e-03\n",
      " -4.3256599e-03 -2.6523403e-03 -1.0519681e-04  6.6998979e-04\n",
      " -2.2215482e-03  1.5306623e-03 -9.1343268e-04  4.3738736e-03\n",
      "  3.8908175e-03  8.1128126e-04  3.6383853e-03  4.3715928e-03\n",
      "  4.7656684e-03 -1.6921796e-04 -1.5422363e-03  2.4931536e-03\n",
      "  5.3831190e-04 -3.2837014e-03 -3.9293873e-03 -1.2487249e-03\n",
      " -1.9117662e-03 -4.1229246e-04 -3.3576789e-03  3.0654836e-03\n",
      "  7.7080831e-04 -7.3500659e-04 -2.4273190e-04 -2.7085864e-04\n",
      " -4.8962736e-04 -1.8845763e-03 -2.5627844e-03 -3.1019666e-03\n",
      "  2.3567928e-03  4.0522120e-03  4.1642436e-03 -2.4145944e-03\n",
      " -4.4875517e-03  3.5443744e-03  1.3208933e-03 -2.0041296e-03\n",
      " -3.4561199e-03  8.5100380e-04 -1.1070991e-03 -3.6860141e-03\n",
      "  2.5670119e-03  3.2487698e-03  1.4274942e-03 -4.2682993e-03]\n",
      "Word2Vec(vocab=14, size=100, alpha=0.025)\n"
     ]
    },
    {
     "name": "stderr",
     "output_type": "stream",
     "text": [
      "D:\\Intalled Softwares\\Anaconda\\lib\\site-packages\\ipykernel_launcher.py:16: DeprecationWarning: Call to deprecated `__getitem__` (Method will be removed in 4.0.0, use self.wv.__getitem__() instead).\n",
      "  app.launch_new_instance()\n"
     ]
    }
   ],
   "source": [
    "from gensim.models import Word2Vec\n",
    "# define training data\n",
    "sentences = [['this', 'is', 'the', 'first', 'sentence', 'for', 'word2vec'],\n",
    "\t\t\t['this', 'is', 'the', 'second', 'sentence'],\n",
    "\t\t\t['yet', 'another', 'sentence'],\n",
    "\t\t\t['one', 'more', 'sentence'],\n",
    "\t\t\t['and', 'the', 'final', 'sentence']]\n",
    "# train model\n",
    "model = Word2Vec(sentences, min_count=1)\n",
    "# summarize the loaded model\n",
    "print(model)\n",
    "# summarize vocabulary\n",
    "words = list(model.wv.vocab)\n",
    "print(words)\n",
    "# access vector for one word\n",
    "print(model['sentence'])\n",
    "# save model\n",
    "model.save('models/model.bin')\n",
    "# load model\n",
    "new_model = Word2Vec.load('models/model.bin')\n",
    "print(new_model)"
   ]
  },
  {
   "cell_type": "code",
   "execution_count": 109,
   "metadata": {},
   "outputs": [
    {
     "data": {
      "text/plain": [
       "-0.081670165"
      ]
     },
     "execution_count": 109,
     "metadata": {},
     "output_type": "execute_result"
    }
   ],
   "source": [
    "model.wv.similarity('first', 'second')"
   ]
  },
  {
   "cell_type": "markdown",
   "metadata": {},
   "source": [
    "# Plot Word Vectors Using PCA\n",
    "We can create a 2-dimensional PCA model of the word vectors using the scikit-learn PCA class as follows."
   ]
  },
  {
   "cell_type": "code",
   "execution_count": 119,
   "metadata": {},
   "outputs": [
    {
     "name": "stdout",
     "output_type": "stream",
     "text": [
      "{'this': <gensim.models.keyedvectors.Vocab object at 0x00000159A48DF448>, 'is': <gensim.models.keyedvectors.Vocab object at 0x00000159A48DF4C8>, 'the': <gensim.models.keyedvectors.Vocab object at 0x00000159A48DFC48>, 'first': <gensim.models.keyedvectors.Vocab object at 0x00000159A48DF088>, 'sentence': <gensim.models.keyedvectors.Vocab object at 0x00000159A48DF508>, 'for': <gensim.models.keyedvectors.Vocab object at 0x00000159A48DFE48>, 'word2vec': <gensim.models.keyedvectors.Vocab object at 0x00000159A48DF608>, 'second': <gensim.models.keyedvectors.Vocab object at 0x00000159A48DF848>, 'yet': <gensim.models.keyedvectors.Vocab object at 0x00000159A48DFC08>, 'another': <gensim.models.keyedvectors.Vocab object at 0x00000159A48DF988>, 'one': <gensim.models.keyedvectors.Vocab object at 0x00000159A4939408>, 'more': <gensim.models.keyedvectors.Vocab object at 0x00000159A4939988>, 'and': <gensim.models.keyedvectors.Vocab object at 0x00000159A4939B88>, 'final': <gensim.models.keyedvectors.Vocab object at 0x00000159A4939448>}\n"
     ]
    },
    {
     "name": "stderr",
     "output_type": "stream",
     "text": [
      "D:\\Intalled Softwares\\Anaconda\\lib\\site-packages\\ipykernel_launcher.py:13: DeprecationWarning: Call to deprecated `__getitem__` (Method will be removed in 4.0.0, use self.wv.__getitem__() instead).\n",
      "  del sys.path[0]\n"
     ]
    },
    {
     "data": {
      "image/png": "[encoded data removed]",
      "text/plain": [
       "<Figure size 432x288 with 1 Axes>"
      ]
     },
     "metadata": {
      "needs_background": "light"
     },
     "output_type": "display_data"
    }
   ],
   "source": [
    "from gensim.models import Word2Vec\n",
    "from sklearn.decomposition import PCA\n",
    "from matplotlib import pyplot\n",
    "# define training data\n",
    "sentences = [['this', 'is', 'the', 'first', 'sentence', 'for', 'word2vec'],\n",
    "\t\t\t['this', 'is', 'the', 'second', 'sentence'],\n",
    "\t\t\t['yet', 'another', 'sentence'],\n",
    "\t\t\t['one', 'more', 'sentence'],\n",
    "\t\t\t['and', 'the', 'final', 'sentence']]\n",
    "# train model\n",
    "model = Word2Vec(sentences, min_count=1)\n",
    "# fit a 2d PCA model to the vectors\n",
    "X = model[model.wv.vocab]\n",
    "pca = PCA(n_components=2)\n",
    "result = pca.fit_transform(X)\n",
    "# create a scatter plot of the projection\n",
    "pyplot.scatter(result[:, 0], result[:, 1])\n",
    "words = list(model.wv.vocab)\n",
    "for i, word in enumerate(words):\n",
    "\tpyplot.annotate(word, xy=(result[i, 0], result[i, 1]))\n",
    "pyplot.show()"
   ]
  },
  {
   "cell_type": "markdown",
   "metadata": {},
   "source": [
    "# Using GloVe Pre-Trained Model"
   ]
  },
  {
   "cell_type": "markdown",
   "metadata": {},
   "source": [
    "Method 1"
   ]
  },
  {
   "cell_type": "code",
   "execution_count": null,
   "metadata": {},
   "outputs": [],
   "source": [
    "import numpy as np\n",
    "from gensim.models import KeyedVectors"
   ]
  },
  {
   "cell_type": "code",
   "execution_count": null,
   "metadata": {},
   "outputs": [],
   "source": [
    "embeddings_index = {}\n",
    "with open('data/glove.6B.300d.txt', encoding='utf8') as f:\n",
    "    for line in f:\n",
    "        values = line.split()\n",
    "        word = values[0]\n",
    "        vector = np.asarray(values[1:],dtype='float32')\n",
    "        embeddings_index[word] = vector"
   ]
  },
  {
   "cell_type": "code",
   "execution_count": null,
   "metadata": {},
   "outputs": [],
   "source": [
    "result = embeddings_index['woman'] + embeddings_index['king'] + embeddings_index['man']"
   ]
  },
  {
   "cell_type": "markdown",
   "metadata": {},
   "source": [
    "Method 2"
   ]
  },
  {
   "cell_type": "code",
   "execution_count": null,
   "metadata": {},
   "outputs": [],
   "source": [
    "from gensim.scripts.glove2word2vec import glove2word2vec\n",
    "glove_input_file = 'data/glove.6B.300d.txt'\n",
    "word2vec_output_file = 'data/glove.6B.300d.txt.word2vec'\n",
    "glove2word2vec(glove_input_file, word2vec_output_file)"
   ]
  },
  {
   "cell_type": "markdown",
   "metadata": {},
   "source": [
    "# Load data"
   ]
  },
  {
   "cell_type": "code",
   "execution_count": null,
   "metadata": {},
   "outputs": [],
   "source": [
    "# load the Stanford GloVe model\n",
    "filename = 'data/glove.6B.300d.txt.word2vec'\n",
    "model = KeyedVectors.load_word2vec_format(filename, binary=False)"
   ]
  },
  {
   "cell_type": "code",
   "execution_count": null,
   "metadata": {},
   "outputs": [],
   "source": [
    "result = model.most_similar(positive=['woman', 'king'], negative=['man'], topn=1)\n",
    "print(result)"
   ]
  },
  {
   "cell_type": "code",
   "execution_count": null,
   "metadata": {},
   "outputs": [],
   "source": [
    "print(model.similarity('king','prince'))\n",
    "print(model.similarity('king','queen'))\n",
    "print(model.similarity('king','man'))"
   ]
  },
  {
   "cell_type": "code",
   "execution_count": null,
   "metadata": {},
   "outputs": [],
   "source": [
    "result = model.most_similar(positive=['woman'], topn=5)\n",
    "print(result)\n",
    "\n",
    "result = model.most_similar(positive=['king'], topn=5)\n",
    "print(result)\n",
    "\n",
    "result = model.most_similar(positive=['chair'], topn=5)\n",
    "print(result)"
   ]
  },
  {
   "cell_type": "code",
   "execution_count": null,
   "metadata": {},
   "outputs": [],
   "source": []
  }
 ],
 "metadata": {
  "kernelspec": {
   "display_name": "Python 3",
   "language": "python",
   "name": "python3"
  },
  "language_info": {
   "codemirror_mode": {
    "name": "ipython",
    "version": 3
   },
   "file_extension": ".py",
   "mimetype": "text/x-python",
   "name": "python",
   "nbconvert_exporter": "python",
   "pygments_lexer": "ipython3",
   "version": "3.7.4"
  }
 },
 "nbformat": 4,
 "nbformat_minor": 2
}
