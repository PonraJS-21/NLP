{
 "cells": [
  {
   "cell_type": "markdown",
   "metadata": {},
   "source": [
    "# Develop Word2Vec Embedding"
   ]
  },
  {
   "cell_type": "code",
   "execution_count": 4,
   "metadata": {},
   "outputs": [
    {
     "name": "stdout",
     "output_type": "stream",
     "text": [
      "Word2Vec(vocab=14, size=100, alpha=0.025)\n",
      "['this', 'is', 'the', 'first', 'sentence', 'for', 'word2vec', 'second', 'yet', 'another', 'one', 'more', 'and', 'final']\n",
      "[ 2.1776333e-03 -9.2499913e-04  5.3157291e-04 -1.2157995e-03\n",
      " -4.8548952e-03  2.1709173e-03  2.5921219e-03 -2.5817540e-03\n",
      " -3.4307700e-03  1.3788402e-03 -4.7819602e-05  4.0346207e-03\n",
      "  8.9993770e-04 -1.6808795e-03  2.5935061e-03 -4.0225992e-03\n",
      "  2.5056771e-03  2.2033642e-03  1.9967838e-03  6.5653259e-04\n",
      " -4.4961096e-04  1.3597263e-03 -2.1801812e-03  2.7005037e-04\n",
      "  3.3012058e-03 -4.8750979e-03 -7.6853944e-04  3.7614366e-03\n",
      "  4.8949947e-03 -1.5846371e-03 -4.5203823e-03  2.9817433e-04\n",
      " -1.3786743e-03  1.1221292e-05  4.6324404e-03 -2.7733888e-03\n",
      "  4.9455655e-03 -3.3476774e-03 -3.6760333e-03 -3.5931976e-03\n",
      "  3.9968104e-03  2.6687572e-03 -2.2695286e-03  4.8048403e-03\n",
      "  1.6900689e-03  3.8672714e-03 -4.2208214e-03  3.1863581e-03\n",
      "  2.8780473e-03 -4.4711870e-03 -4.7525186e-03  4.6698032e-03\n",
      " -4.4054217e-03 -2.3503907e-03  4.4271727e-03 -1.2432371e-03\n",
      " -8.2222025e-05 -1.8343667e-03  3.7324918e-03  1.7105440e-03\n",
      "  3.1822247e-03 -3.9751525e-03  2.4601694e-03 -3.1063785e-03\n",
      " -4.3563610e-03  2.1599859e-04  4.6527865e-03 -4.0132846e-03\n",
      "  5.3982233e-04 -1.9907267e-03 -4.4811680e-04  4.5839981e-03\n",
      "  6.6928793e-04  1.8302770e-03  2.5668112e-04  3.6214141e-03\n",
      " -4.6769009e-04 -4.0504895e-03  1.2359640e-03 -6.5840455e-04\n",
      " -2.1345336e-03 -4.3706964e-03 -2.8064901e-03 -8.4767415e-04\n",
      "  1.7985458e-03  3.3675949e-03  2.0949941e-04 -7.4468972e-04\n",
      "  1.7355694e-03 -4.2117913e-03 -1.0603927e-03  2.8669790e-04\n",
      "  1.7322244e-03  4.9428386e-03 -8.6304575e-04 -4.7667371e-03\n",
      "  4.6051233e-03 -1.2072616e-03  2.6218793e-03 -3.3034219e-03]\n",
      "Word2Vec(vocab=14, size=100, alpha=0.025)\n"
     ]
    },
    {
     "name": "stderr",
     "output_type": "stream",
     "text": [
      "D:\\Intalled Softwares\\Anaconda\\lib\\site-packages\\ipykernel_launcher.py:16: DeprecationWarning: Call to deprecated `__getitem__` (Method will be removed in 4.0.0, use self.wv.__getitem__() instead).\n",
      "  app.launch_new_instance()\n"
     ]
    }
   ],
   "source": [
    "from gensim.models import Word2Vec\n",
    "# define training data\n",
    "sentences = [['this', 'is', 'the', 'first', 'sentence', 'for', 'word2vec'],\n",
    "\t\t\t['this', 'is', 'the', 'second', 'sentence'],\n",
    "\t\t\t['yet', 'another', 'sentence'],\n",
    "\t\t\t['one', 'more', 'sentence'],\n",
    "\t\t\t['and', 'the', 'final', 'sentence']]\n",
    "# train model\n",
    "model = Word2Vec(sentences, min_count=1)\n",
    "# summarize the loaded model\n",
    "print(model)\n",
    "# summarize vocabulary\n",
    "words = list(model.wv.vocab)\n",
    "print(words)\n",
    "# access vector for one word\n",
    "print(model['sentence'])\n",
    "# save model\n",
    "model.save('models/model.bin')\n",
    "# load model\n",
    "new_model = Word2Vec.load('models/model.bin')\n",
    "print(new_model)"
   ]
  },
  {
   "cell_type": "code",
   "execution_count": 11,
   "metadata": {},
   "outputs": [
    {
     "data": {
      "text/plain": [
       "0.12918866"
      ]
     },
     "execution_count": 11,
     "metadata": {},
     "output_type": "execute_result"
    }
   ],
   "source": [
    "model.wv.similarity('first', 'second')"
   ]
  },
  {
   "cell_type": "markdown",
   "metadata": {},
   "source": [
    "# Plot Word Vectors Using PCA\n",
    "We can create a 2-dimensional PCA model of the word vectors using the scikit-learn PCA class as follows."
   ]
  },
  {
   "cell_type": "code",
   "execution_count": 13,
   "metadata": {},
   "outputs": [
    {
     "name": "stderr",
     "output_type": "stream",
     "text": [
      "D:\\Intalled Softwares\\Anaconda\\lib\\site-packages\\ipykernel_launcher.py:13: DeprecationWarning: Call to deprecated `__getitem__` (Method will be removed in 4.0.0, use self.wv.__getitem__() instead).\n",
      "  del sys.path[0]\n"
     ]
    },
    {
     "data": {
      "image/png": "[encoded data removed]",
      "text/plain": [
       "<Figure size 432x288 with 1 Axes>"
      ]
     },
     "metadata": {
      "needs_background": "light"
     },
     "output_type": "display_data"
    }
   ],
   "source": [
    "from gensim.models import Word2Vec\n",
    "from sklearn.decomposition import PCA\n",
    "from matplotlib import pyplot\n",
    "# define training data\n",
    "sentences = [['this', 'is', 'the', 'first', 'sentence', 'for', 'word2vec'],\n",
    "\t\t\t['this', 'is', 'the', 'second', 'sentence'],\n",
    "\t\t\t['yet', 'another', 'sentence'],\n",
    "\t\t\t['one', 'more', 'sentence'],\n",
    "\t\t\t['and', 'the', 'final', 'sentence']]\n",
    "# train model\n",
    "model = Word2Vec(sentences, min_count=1)\n",
    "# fit a 2d PCA model to the vectors\n",
    "X = model[model.wv.vocab]\n",
    "pca = PCA(n_components=2)\n",
    "result = pca.fit_transform(X)\n",
    "# create a scatter plot of the projection\n",
    "pyplot.scatter(result[:, 0], result[:, 1])\n",
    "words = list(model.wv.vocab)\n",
    "for i, word in enumerate(words):\n",
    "\tpyplot.annotate(word, xy=(result[i, 0], result[i, 1]))\n",
    "pyplot.show()"
   ]
  },
  {
   "cell_type": "markdown",
   "metadata": {},
   "source": [
    "# Using GloVe Pre-Trained Model"
   ]
  },
  {
   "cell_type": "markdown",
   "metadata": {},
   "source": [
    "Method 1"
   ]
  },
  {
   "cell_type": "code",
   "execution_count": 20,
   "metadata": {},
   "outputs": [],
   "source": [
    "import numpy as np\n",
    "embeddings_index = {}\n",
    "with open('data/glove.6B.100d.txt', encoding='utf8') as f:\n",
    "    for line in f:\n",
    "        values = line.split()\n",
    "        word = values[0]\n",
    "        vector = np.asarray(values[1:],dtype='float32')\n",
    "        embeddings_index[word] = vector"
   ]
  },
  {
   "cell_type": "code",
   "execution_count": 39,
   "metadata": {},
   "outputs": [],
   "source": [
    "result = embeddings_index['woman'] + embeddings_index['king'] + embeddings_index['man']"
   ]
  },
  {
   "cell_type": "markdown",
   "metadata": {},
   "source": [
    "Method 2"
   ]
  },
  {
   "cell_type": "code",
   "execution_count": 34,
   "metadata": {},
   "outputs": [
    {
     "data": {
      "text/plain": [
       "(400000, 100)"
      ]
     },
     "execution_count": 34,
     "metadata": {},
     "output_type": "execute_result"
    }
   ],
   "source": [
    "from gensim.scripts.glove2word2vec import glove2word2vec\n",
    "glove_input_file = 'data/glove.6B.100d.txt'\n",
    "word2vec_output_file = 'data/glove.6B.100d.txt.word2vec'\n",
    "glove2word2vec(glove_input_file, word2vec_output_file)"
   ]
  },
  {
   "cell_type": "code",
   "execution_count": 36,
   "metadata": {},
   "outputs": [],
   "source": [
    "# load the Stanford GloVe model\n",
    "filename = 'data/glove.6B.100d.txt.word2vec'\n",
    "model = KeyedVectors.load_word2vec_format(filename, binary=False)"
   ]
  },
  {
   "cell_type": "code",
   "execution_count": 37,
   "metadata": {},
   "outputs": [
    {
     "name": "stdout",
     "output_type": "stream",
     "text": [
      "[('queen', 0.7698541283607483)]\n"
     ]
    }
   ],
   "source": [
    "result = model.most_similar(positive=['woman', 'king'], negative=['man'], topn=1)\n",
    "print(result)"
   ]
  },
  {
   "cell_type": "code",
   "execution_count": 46,
   "metadata": {},
   "outputs": [
    {
     "name": "stdout",
     "output_type": "stream",
     "text": [
      "0.76823294\n",
      "0.7507691\n",
      "0.5118681\n"
     ]
    }
   ],
   "source": [
    "print(model.similarity('king','prince'))\n",
    "print(model.similarity('king','queen'))\n",
    "print(model.similarity('king','man'))"
   ]
  },
  {
   "cell_type": "code",
   "execution_count": 50,
   "metadata": {},
   "outputs": [
    {
     "name": "stdout",
     "output_type": "stream",
     "text": [
      "[('girl', 0.8472671508789062), ('man', 0.832349419593811), ('mother', 0.827568769454956), ('boy', 0.7720510959625244), ('she', 0.7632068395614624)]\n",
      "[('prince', 0.7682329416275024), ('queen', 0.7507690787315369), ('son', 0.7020887732505798), ('brother', 0.6985775232315063), ('monarch', 0.6977890729904175)]\n",
      "[('chairs', 0.7820560336112976), ('head', 0.6700454354286194), ('sitting', 0.6607790589332581), ('door', 0.6043283939361572), ('floor', 0.5983192920684814)]\n"
     ]
    }
   ],
   "source": [
    "result = model.most_similar(positive=['woman'], topn=5)\n",
    "print(result)\n",
    "\n",
    "result = model.most_similar(positive=['king'], topn=5)\n",
    "print(result)\n",
    "\n",
    "result = model.most_similar(positive=['chair'], topn=5)\n",
    "print(result)"
   ]
  },
  {
   "cell_type": "code",
   "execution_count": null,
   "metadata": {},
   "outputs": [],
   "source": []
  }
 ],
 "metadata": {
  "kernelspec": {
   "display_name": "Python 3",
   "language": "python",
   "name": "python3"
  },
  "language_info": {
   "codemirror_mode": {
    "name": "ipython",
    "version": 3
   },
   "file_extension": ".py",
   "mimetype": "text/x-python",
   "name": "python",
   "nbconvert_exporter": "python",
   "pygments_lexer": "ipython3",
   "version": "3.7.4"
  }
 },
 "nbformat": 4,
 "nbformat_minor": 2
}
